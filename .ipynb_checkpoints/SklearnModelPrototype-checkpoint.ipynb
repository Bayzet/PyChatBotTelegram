{
 "cells": [
  {
   "cell_type": "code",
   "execution_count": 39,
   "metadata": {},
   "outputs": [],
   "source": [
    "BOT_CONFIG = {\n",
    "    'threshold': 0.6,\n",
    "    \n",
    "    'intents': {\n",
    "        'hello': {\n",
    "            'examples': ['Привет', 'Добрый день', 'Здравствуйте!', 'Салам Алейкум'],\n",
    "            'responses': ['Привет, юзер!', 'Здравствуй']\n",
    "        },\n",
    "        'goodbye': {\n",
    "            'examples': ['Пока', 'Всего доброго', 'До свидания!'],\n",
    "            'responses': ['Пока', 'Счастливо!']\n",
    "        },\n",
    "        'thanks': {\n",
    "            'examples': ['Спасибо', 'Спасибо большое', 'Сенкс', 'Благодарю'],\n",
    "            'responses': ['Вам спасибо']\n",
    "        },\n",
    "        'whatcanyoudo': {\n",
    "            'examples': ['Что ты умеешь?', 'Расскажи что умеешь'],\n",
    "            'responses': ['Отвечать на вопросы. просто напиши :)']\n",
    "        },\n",
    "        'name': {\n",
    "            'examples': ['Как тебя зовут', 'Твоё имя'],\n",
    "            'responses': ['Меня зовут БОТ. Просто БОТ.']\n",
    "        },\n",
    "        'weather': {\n",
    "            'examples': ['Какая погода в Москве?', 'Какая погода?'],\n",
    "            'responses': ['Погода так себе....']\n",
    "        },\n",
    "    },\n",
    "    'failure_phrases': [\n",
    "        'Я не знаю что ответить',\n",
    "        'Не понял вас',\n",
    "        'Переформулируйте пожалуйста',\n",
    "    ]\n",
    "}"
   ]
  },
  {
   "cell_type": "code",
   "execution_count": 40,
   "metadata": {},
   "outputs": [
    {
     "name": "stdout",
     "output_type": "stream",
     "text": [
      "[['Привет', 'hello'], ['Добрый день', 'hello'], ['Здравствуйте!', 'hello'], ['Салам Алейкум', 'hello'], ['Пока', 'goodbye'], ['Всего доброго', 'goodbye'], ['До свидания!', 'goodbye'], ['Спасибо', 'thanks'], ['Спасибо большое', 'thanks'], ['Сенкс', 'thanks'], ['Благодарю', 'thanks'], ['Что ты умеешь?', 'whatcanyoudo'], ['Расскажи что умеешь', 'whatcanyoudo'], ['Как тебя зовут', 'name'], ['Твоё имя', 'name'], ['Какая погода в Москве?', 'weather'], ['Какая погода?', 'weather']]\n"
     ]
    }
   ],
   "source": [
    "dataset = [] # [[example, intent], ....]\n",
    "\n",
    "for intent, intent_data in BOT_CONFIG['intents'].items():\n",
    "        for example in intent_data['examples']:\n",
    "            dataset.append([example, intent])\n",
    "            \n",
    "print(dataset)"
   ]
  },
  {
   "cell_type": "code",
   "execution_count": 41,
   "metadata": {},
   "outputs": [
    {
     "name": "stdout",
     "output_type": "stream",
     "text": [
      "['Привет', 'Добрый день', 'Здравствуйте!', 'Салам Алейкум', 'Пока', 'Всего доброго', 'До свидания!', 'Спасибо', 'Спасибо большое', 'Сенкс', 'Благодарю', 'Что ты умеешь?', 'Расскажи что умеешь', 'Как тебя зовут', 'Твоё имя', 'Какая погода в Москве?', 'Какая погода?']\n",
      "['hello', 'hello', 'hello', 'hello', 'goodbye', 'goodbye', 'goodbye', 'thanks', 'thanks', 'thanks', 'thanks', 'whatcanyoudo', 'whatcanyoudo', 'name', 'name', 'weather', 'weather']\n"
     ]
    }
   ],
   "source": [
    "X_text = [x for x,y in dataset]\n",
    "Y_text = [y for x,y in dataset]\n",
    "print(X_text)\n",
    "print(Y_text)"
   ]
  },
  {
   "cell_type": "code",
   "execution_count": 42,
   "metadata": {},
   "outputs": [
    {
     "name": "stdout",
     "output_type": "stream",
     "text": [
      "['алейкум', 'благодарю', 'большое', 'всего', 'день', 'до', 'доброго', 'добрый', 'здравствуйте', 'зовут', 'имя', 'как', 'какая', 'москве', 'погода', 'пока', 'привет', 'расскажи', 'салам', 'свидания', 'сенкс', 'спасибо', 'твоё', 'тебя', 'ты', 'умеешь', 'что']\n",
      "[[0 0 0 0 0 0 0 0 0 0 0 0 0 0 0 0 1 0 0 0 0 0 0 0 0 0 0]\n",
      " [0 0 0 0 1 0 0 1 0 0 0 0 0 0 0 0 0 0 0 0 0 0 0 0 0 0 0]\n",
      " [0 0 0 0 0 0 0 0 1 0 0 0 0 0 0 0 0 0 0 0 0 0 0 0 0 0 0]\n",
      " [1 0 0 0 0 0 0 0 0 0 0 0 0 0 0 0 0 0 1 0 0 0 0 0 0 0 0]\n",
      " [0 0 0 0 0 0 0 0 0 0 0 0 0 0 0 1 0 0 0 0 0 0 0 0 0 0 0]\n",
      " [0 0 0 1 0 0 1 0 0 0 0 0 0 0 0 0 0 0 0 0 0 0 0 0 0 0 0]\n",
      " [0 0 0 0 0 1 0 0 0 0 0 0 0 0 0 0 0 0 0 1 0 0 0 0 0 0 0]\n",
      " [0 0 0 0 0 0 0 0 0 0 0 0 0 0 0 0 0 0 0 0 0 1 0 0 0 0 0]\n",
      " [0 0 1 0 0 0 0 0 0 0 0 0 0 0 0 0 0 0 0 0 0 1 0 0 0 0 0]\n",
      " [0 0 0 0 0 0 0 0 0 0 0 0 0 0 0 0 0 0 0 0 1 0 0 0 0 0 0]\n",
      " [0 1 0 0 0 0 0 0 0 0 0 0 0 0 0 0 0 0 0 0 0 0 0 0 0 0 0]\n",
      " [0 0 0 0 0 0 0 0 0 0 0 0 0 0 0 0 0 0 0 0 0 0 0 0 1 1 1]\n",
      " [0 0 0 0 0 0 0 0 0 0 0 0 0 0 0 0 0 1 0 0 0 0 0 0 0 1 1]\n",
      " [0 0 0 0 0 0 0 0 0 1 0 1 0 0 0 0 0 0 0 0 0 0 0 1 0 0 0]\n",
      " [0 0 0 0 0 0 0 0 0 0 1 0 0 0 0 0 0 0 0 0 0 0 1 0 0 0 0]\n",
      " [0 0 0 0 0 0 0 0 0 0 0 0 1 1 1 0 0 0 0 0 0 0 0 0 0 0 0]\n",
      " [0 0 0 0 0 0 0 0 0 0 0 0 1 0 1 0 0 0 0 0 0 0 0 0 0 0 0]]\n"
     ]
    }
   ],
   "source": [
    "from sklearn.feature_extraction.text import CountVectorizer\n",
    "\n",
    "vectorizer = CountVectorizer()\n",
    "X = vectorizer.fit_transform(X_text)\n",
    "print(vectorizer.get_feature_names())\n",
    "print(X.toarray())"
   ]
  },
  {
   "cell_type": "code",
   "execution_count": 43,
   "metadata": {},
   "outputs": [
    {
     "data": {
      "text/plain": [
       "SVC(C=1.0, break_ties=False, cache_size=200, class_weight=None, coef0=0.0,\n",
       "    decision_function_shape='ovr', degree=3, gamma='scale', kernel='rbf',\n",
       "    max_iter=-1, probability=True, random_state=None, shrinking=True, tol=0.001,\n",
       "    verbose=False)"
      ]
     },
     "execution_count": 43,
     "metadata": {},
     "output_type": "execute_result"
    }
   ],
   "source": [
    "from sklearn.linear_model import LogisticRegression\n",
    "from sklearn.svm import SVC\n",
    "\n",
    "\n",
    "clf = SVC(probability=True)\n",
    "clf.fit(X,Y_text)"
   ]
  },
  {
   "cell_type": "code",
   "execution_count": 44,
   "metadata": {},
   "outputs": [
    {
     "data": {
      "text/plain": [
       "array(['goodbye', 'hello', 'name', 'thanks', 'weather', 'whatcanyoudo'],\n",
       "      dtype='<U12')"
      ]
     },
     "execution_count": 44,
     "metadata": {},
     "output_type": "execute_result"
    }
   ],
   "source": [
    "clf.classes_"
   ]
  },
  {
   "cell_type": "code",
   "execution_count": 45,
   "metadata": {},
   "outputs": [
    {
     "name": "stdout",
     "output_type": "stream",
     "text": [
      "[[0 0 0 0 0 0 0 0 0 0 0 0 0 0 0 0 1 0 0 0 0 0 0 0 0 0 0]\n",
      " [0 0 0 0 0 0 0 0 0 0 0 1 0 0 0 0 0 0 0 0 0 0 0 0 0 0 0]\n",
      " [0 0 0 0 0 0 0 0 0 0 0 0 0 0 0 0 0 0 0 0 0 0 0 0 0 0 1]\n",
      " [0 0 0 0 0 0 0 0 0 0 0 0 0 0 0 1 0 0 0 0 0 0 0 0 0 0 0]]\n"
     ]
    },
    {
     "data": {
      "text/plain": [
       "array(['hello', 'hello', 'hello', 'goodbye'], dtype='<U12')"
      ]
     },
     "execution_count": 45,
     "metadata": {},
     "output_type": "execute_result"
    }
   ],
   "source": [
    "v = vectorizer.transform(['Привет :)', 'как дела', 'что с погодой?', 'пока'])\n",
    "print(v.toarray())\n",
    "clf.predict(v)"
   ]
  },
  {
   "cell_type": "code",
   "execution_count": 46,
   "metadata": {},
   "outputs": [
    {
     "data": {
      "text/plain": [
       "array([[0.15099231, 0.06462904, 0.13324442, 0.45798946, 0.05877157,\n",
       "        0.1343732 ],\n",
       "       [0.13151356, 0.35001538, 0.05505854, 0.30460503, 0.04385811,\n",
       "        0.11494938],\n",
       "       [0.24142395, 0.20870299, 0.14458528, 0.22372786, 0.041992  ,\n",
       "        0.13956791],\n",
       "       [0.03798992, 0.36961698, 0.10691673, 0.32298528, 0.0455768 ,\n",
       "        0.11691428]])"
      ]
     },
     "execution_count": 46,
     "metadata": {},
     "output_type": "execute_result"
    }
   ],
   "source": [
    "clf.predict_proba(v)"
   ]
  },
  {
   "cell_type": "code",
   "execution_count": 58,
   "metadata": {},
   "outputs": [
    {
     "name": "stdout",
     "output_type": "stream",
     "text": [
      "(11, 27) (6, 27)\n"
     ]
    }
   ],
   "source": [
    "from sklearn.model_selection import train_test_split\n",
    "\n",
    "X_train, X_test, y_train, y_test  = train_test_split(X, Y_text, test_size=0.3)\n",
    "print(X_train.shape, X_test.shape)"
   ]
  },
  {
   "cell_type": "code",
   "execution_count": 53,
   "metadata": {},
   "outputs": [
    {
     "data": {
      "text/plain": [
       "0.16666666666666666"
      ]
     },
     "execution_count": 53,
     "metadata": {},
     "output_type": "execute_result"
    }
   ],
   "source": [
    "clf = LogisticRegression()\n",
    "clf.fit(X_train, y_train)\n",
    "clf.score(X_test, y_test)"
   ]
  },
  {
   "cell_type": "code",
   "execution_count": 57,
   "metadata": {},
   "outputs": [
    {
     "name": "stdout",
     "output_type": "stream",
     "text": [
      "0.0\n"
     ]
    }
   ],
   "source": [
    "scores = []\n",
    "\n",
    "for _ in range(10):\n",
    "    X_train, X_test, y_train, y_test  = train_test_split(X, Y_text, test_size=0.3)\n",
    "    clf = LogisticRegression()\n",
    "    clf.fit(X_train, y_train)\n",
    "    clf.score(X_test, y_test)\n",
    "    \n",
    "print(sum(scores) / 100)"
   ]
  },
  {
   "cell_type": "code",
   "execution_count": null,
   "metadata": {},
   "outputs": [],
   "source": []
  }
 ],
 "metadata": {
  "kernelspec": {
   "display_name": "Python 3",
   "language": "python",
   "name": "python3"
  },
  "language_info": {
   "codemirror_mode": {
    "name": "ipython",
    "version": 3
   },
   "file_extension": ".py",
   "mimetype": "text/x-python",
   "name": "python",
   "nbconvert_exporter": "python",
   "pygments_lexer": "ipython3",
   "version": "3.7.6"
  }
 },
 "nbformat": 4,
 "nbformat_minor": 4
}
