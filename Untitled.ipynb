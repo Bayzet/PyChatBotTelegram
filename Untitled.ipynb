{
 "cells": [
  {
   "cell_type": "code",
   "execution_count": 27,
   "metadata": {},
   "outputs": [],
   "source": [
    "BOT_CONFIG = {\n",
    "    'threshold': 0.6,\n",
    "    \n",
    "    'intents': {\n",
    "        'hello': {\n",
    "            'examples': ['Привет', 'Добрый день', 'Здравствуйте!', 'Салам Алейкум'],\n",
    "            'responses': ['Привет, юзер!', 'Здравствуй']\n",
    "        },\n",
    "        'goodbye': {\n",
    "            'examples': ['Пока', 'Всего доброго', 'До свидания!'],\n",
    "            'responses': ['Пока', 'Счастливо!']\n",
    "        },\n",
    "        'thanks': {\n",
    "            'examples': ['Спасибо', 'Спасибо большое', 'Сенкс', 'Благодарю'],\n",
    "            'responses': ['Вам спасибо']\n",
    "        },\n",
    "        'whatcanyoudo': {\n",
    "            'examples': ['Что ты умеешь?', 'Расскажи что умеешь'],\n",
    "            'responses': ['Отвечать на вопросы. просто напиши :)']\n",
    "        },\n",
    "        'name': {\n",
    "            'examples': ['Как тебя зовут', 'Твоё имя'],\n",
    "            'responses': ['Меня зовут БОТ. Просто БОТ.']\n",
    "        },\n",
    "        'weather': {\n",
    "            'examples': ['Какая погода в Москве?', 'Какая погода?'],\n",
    "            'responses': ['Погода так себе....']\n",
    "        },\n",
    "    },\n",
    "    'failure_phrases': [\n",
    "        'Я не знаю что ответить',\n",
    "        'Не понял вас',\n",
    "        'Переформулируйте пожалуйста',\n",
    "    ]\n",
    "}"
   ]
  },
  {
   "cell_type": "code",
   "execution_count": 28,
   "metadata": {},
   "outputs": [],
   "source": [
    "import nltk\n",
    "import random"
   ]
  },
  {
   "cell_type": "code",
   "execution_count": 29,
   "metadata": {},
   "outputs": [],
   "source": [
    "def get_intent(text):\n",
    "    for intent, intent_data in BOT_CONFIG['intents'].items():\n",
    "        for example in intent_data['examples']:\n",
    "            distance = nltk.edit_distance(text, example)\n",
    "            similarity = 1 - min(1, distance / len(example))\n",
    "            if similarity > BOT_CONFIG['threshold']:\n",
    "                return intent"
   ]
  },
  {
   "cell_type": "code",
   "execution_count": 30,
   "metadata": {},
   "outputs": [],
   "source": [
    "def generate_answer(text):\n",
    "    intent = get_intent(text)\n",
    "    \n",
    "    # rules\n",
    "    if intent is not None:\n",
    "        responses = BOT_CONFIG['intents'][intent]['responses']\n",
    "        return random.choice(responses)\n",
    "        \n",
    "        \n",
    "    # generate model\n",
    "    # TODO: в третий день будем писать\n",
    "    \n",
    "    # return failure phrase\n",
    "    return random.choice(BOT_CONFIG['failure_phrases'])\n",
    "    \n",
    "#     return 'Привет'"
   ]
  },
  {
   "cell_type": "code",
   "execution_count": null,
   "metadata": {},
   "outputs": [
    {
     "name": "stdout",
     "output_type": "stream",
     "text": [
      "Приветик\n",
      "Привет, юзер!\n",
      "Что ты умеешь?\n",
      "Отвечать на вопросы. просто напиши :)\n",
      "Твоё имя?\n",
      "Меня зовут БОТ. Просто БОТ.\n"
     ]
    }
   ],
   "source": [
    "while True:\n",
    "    question = input()\n",
    "    answer = generate_answer(question)\n",
    "    print(answer)"
   ]
  },
  {
   "cell_type": "code",
   "execution_count": null,
   "metadata": {},
   "outputs": [],
   "source": []
  }
 ],
 "metadata": {
  "kernelspec": {
   "display_name": "Python 3",
   "language": "python",
   "name": "python3"
  },
  "language_info": {
   "codemirror_mode": {
    "name": "ipython",
    "version": 3
   },
   "file_extension": ".py",
   "mimetype": "text/x-python",
   "name": "python",
   "nbconvert_exporter": "python",
   "pygments_lexer": "ipython3",
   "version": "3.7.6"
  }
 },
 "nbformat": 4,
 "nbformat_minor": 4
}
